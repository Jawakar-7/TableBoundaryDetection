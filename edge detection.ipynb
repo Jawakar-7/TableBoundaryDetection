{
 "cells": [
  {
   "cell_type": "code",
   "execution_count": 57,
   "id": "d96db21f",
   "metadata": {},
   "outputs": [],
   "source": [
    "import os\n",
    "directory=os.getcwd()"
   ]
  },
  {
   "cell_type": "code",
   "execution_count": 59,
   "id": "6f4f374d",
   "metadata": {},
   "outputs": [],
   "source": [
    "tables={}\n",
    "import xml.etree.ElementTree as ET\n",
    "for filename in os.listdir(directory):\n",
    "    if filename.endswith('.xml'):\n",
    "        \n",
    "        tree = ET.parse(filename)\n",
    "        root = tree.getroot()\n",
    "        try:\n",
    "            a=tree.findall('object/bndbox/xmin')[0].text\n",
    "            \n",
    "        except:\n",
    "            a=0\n",
    "        try:\n",
    "            b=tree.findall('object/bndbox/ymin')[0].text\n",
    "        except:\n",
    "            b=0\n",
    "        try:\n",
    "            c=tree.findall('object/bndbox/xmax')[0].text\n",
    "        except:\n",
    "            c=0\n",
    "        try:\n",
    "            d=tree.findall('object/bndbox/ymax')[0].text\n",
    "        except:\n",
    "            d=0\n",
    "            \n",
    "        tables[filename] = [a,b,c,d]#\n",
    "        \n",
    "            \n",
    "        \n",
    "        \n",
    "        \n",
    "\n",
    "# \n",
    "# root = tree.getroot()\n"
   ]
  },
  {
   "cell_type": "code",
   "execution_count": 76,
   "id": "55161092",
   "metadata": {},
   "outputs": [],
   "source": [
    "path = './graphfiles'\n",
    "# os.mkdir(path)\n",
    "os.chdir(os.path.join(os.getcwd(),'graphfiles'))"
   ]
  },
  {
   "cell_type": "code",
   "execution_count": 77,
   "id": "7ea24900",
   "metadata": {},
   "outputs": [
    {
     "data": {
      "text/plain": [
       "'C:\\\\Users\\\\lenovo\\\\Desktop\\\\jk_study\\\\Orig_Annotations-20220104T075522Z-001\\\\Orig_Annotations\\\\graphfiles'"
      ]
     },
     "execution_count": 77,
     "metadata": {},
     "output_type": "execute_result"
    }
   ],
   "source": [
    "os.getcwd()"
   ]
  },
  {
   "cell_type": "code",
   "execution_count": 78,
   "id": "4f2845c0",
   "metadata": {},
   "outputs": [],
   "source": [
    "import networkx as nx\n",
    "for i,j in tables.items():\n",
    "    G = nx.Graph()\n",
    "#     print(j[0])\n",
    "#     G.add_node(i, xmin=j[0], ymin=j[1],xmax=j[2],ymax=j[3])\n",
    "    xmin=j[0]\n",
    "    ymin=j[1]\n",
    "    xmax=j[2]\n",
    "    ymax=j[3]\n",
    "    node1 = (xmin, ymin)  # Example: Use cell coordinates as nodes\n",
    "    node2 = (xmax, ymax) \n",
    "    G.add_edge(node1, node2)\n",
    "    name=(i+'output_graph.graphml')\n",
    "    nx.write_graphml(G, name)\n"
   ]
  },
  {
   "cell_type": "code",
   "execution_count": 69,
   "id": "d7f64641",
   "metadata": {},
   "outputs": [
    {
     "data": {
      "image/png": "[encoded data removed]",
      "text/plain": [
       "<Figure size 640x480 with 1 Axes>"
      ]
     },
     "metadata": {},
     "output_type": "display_data"
    }
   ],
   "source": [
    "import networkx as nx\n",
    "import matplotlib.pyplot as plt\n",
    "\n",
    "# Load the GraphML file\n",
    "G = nx.read_graphml('cTDaR_t10423.xmloutput_graph.graphml')\n",
    "\n",
    "# Draw the graph using a layout algorithm (e.g., spring_layout)\n",
    "pos = nx.spring_layout(G)\n",
    "\n",
    "# Draw nodes and edges\n",
    "nx.draw(G, pos, with_labels=True, node_size=100, node_color='skyblue', edge_color='gray')\n",
    "\n",
    "# Display the graph\n",
    "plt.show()\n"
   ]
  },
  {
   "cell_type": "code",
   "execution_count": null,
   "id": "6eb43cdf",
   "metadata": {},
   "outputs": [],
   "source": []
  }
 ],
 "metadata": {
  "kernelspec": {
   "display_name": "Python 3 (ipykernel)",
   "language": "python",
   "name": "python3"
  },
  "language_info": {
   "codemirror_mode": {
    "name": "ipython",
    "version": 3
   },
   "file_extension": ".py",
   "mimetype": "text/x-python",
   "name": "python",
   "nbconvert_exporter": "python",
   "pygments_lexer": "ipython3",
   "version": "3.9.16"
  }
 },
 "nbformat": 4,
 "nbformat_minor": 5
}
